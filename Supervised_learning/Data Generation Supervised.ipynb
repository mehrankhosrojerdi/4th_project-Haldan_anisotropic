{
 "cells": [
  {
   "cell_type": "code",
   "execution_count": 1,
   "metadata": {
    "metadata": {}
   },
   "outputs": [],
   "source": [
    "import gc\n",
    "import os\n",
    "import h5py\n",
    "import quimb as qu\n",
    "import quimb.tensor as qtn\n",
    "import numpy as np\n",
    "import pandas as pd\n",
    "from sklearn import svm\n",
    "from sklearn.metrics import *\n",
    "import matplotlib.pyplot as plt\n",
    "from Haldane_anis_supervise_class import *\n",
    "import pickle"
   ]
  },
  {
   "cell_type": "code",
   "execution_count": 2,
   "metadata": {
    "metadata": {}
   },
   "outputs": [],
   "source": [
    "L = 7 \n",
    "ls = 10 # even\n",
    "bond = 30 # resonable amount\n",
    "path  = f\"/home/mehran/4th_project-Haldan_anisotropic/Supervised_learning/dataset_L={L}_bond={bond}_ls={ls}\"\n",
    "os.makedirs(path, exist_ok=True)"
   ]
  },
  {
   "cell_type": "code",
   "execution_count": 3,
   "metadata": {
    "metadata": {}
   },
   "outputs": [
    {
     "name": "stderr",
     "output_type": "stream",
     "text": [
      "/home/mehran/TN_QML/lib/python3.12/site-packages/quimb/core.py:45: UserWarning: 'NUMBA_NUM_THREADS' has been set elsewhere and doesn't match the value 'quimb' has tried to set - 4 vs 1.\n",
      "  warnings.warn(\n",
      "/home/mehran/TN_QML/lib/python3.12/site-packages/quimb/core.py:45: UserWarning: 'NUMBA_NUM_THREADS' has been set elsewhere and doesn't match the value 'quimb' has tried to set - 4 vs 1.\n",
      "  warnings.warn(\n",
      "/home/mehran/TN_QML/lib/python3.12/site-packages/quimb/core.py:45: UserWarning: 'NUMBA_NUM_THREADS' has been set elsewhere and doesn't match the value 'quimb' has tried to set - 4 vs 1.\n",
      "  warnings.warn(\n",
      "/home/mehran/TN_QML/lib/python3.12/site-packages/quimb/core.py:45: UserWarning: 'NUMBA_NUM_THREADS' has been set elsewhere and doesn't match the value 'quimb' has tried to set - 4 vs 1.\n",
      "  warnings.warn(\n",
      "/home/mehran/TN_QML/lib/python3.12/site-packages/quimb/core.py:45: UserWarning: 'NUMBA_NUM_THREADS' has been set elsewhere and doesn't match the value 'quimb' has tried to set - 4 vs 1.\n",
      "  warnings.warn(\n"
     ]
    },
    {
     "data": {
      "text/plain": [
       "0"
      ]
     },
     "execution_count": 3,
     "metadata": {},
     "output_type": "execute_result"
    }
   ],
   "source": [
    "dataset = Haldan_anis(L = L, ls = ls).generate_train_set() \n",
    "#ds[0] = DMRG_state, ds[1] = DMRG_target, ds[2] = project_state, ds[3] = project_target, ds[4] = points\n",
    "\n",
    "file_path_train = os.path.join(path, 'train_set.pkl')\n",
    "with open(file_path_train, \"wb\") as f:\n",
    "    pickle.dump(dataset, f)\n",
    "gc.collect(2)"
   ]
  },
  {
   "cell_type": "code",
   "execution_count": 4,
   "metadata": {},
   "outputs": [
    {
     "data": {
      "text/plain": [
       "0"
      ]
     },
     "execution_count": 4,
     "metadata": {},
     "output_type": "execute_result"
    }
   ],
   "source": [
    "def gram_matrix_DMRG_11():\n",
    "\n",
    "    with open(file_path_train, \"rb\") as f:\n",
    "        loaded_dataset = pickle.load(f)\n",
    "\n",
    "    d = loaded_dataset[2].shape[0]\n",
    "    gs = loaded_dataset[2]\n",
    "    afinity_train = np.zeros((int(d/2),int(d/2)))\n",
    "    for i in range(0,int(d/2)):\n",
    "        for j in range(0,int(d/2)):\n",
    "            afinity_train[i,j] = np.abs(gs[i].H @ gs[j])**2\n",
    "\n",
    "    return afinity_train\n",
    "\n",
    "file_path_11= os.path.join(path, \"kernel_train_Haldane_11.hdf5\")\n",
    "with h5py.File(file_path_11, \"w\") as f:\n",
    "    f.create_dataset(\" gram_matrix_DMRG_11\", data = gram_matrix_DMRG_11())\n",
    "    \n",
    "gc.collect(2)"
   ]
  },
  {
   "cell_type": "code",
   "execution_count": 5,
   "metadata": {},
   "outputs": [
    {
     "data": {
      "text/plain": [
       "0"
      ]
     },
     "execution_count": 5,
     "metadata": {},
     "output_type": "execute_result"
    }
   ],
   "source": [
    "def gram_matrix_DMRG_12():\n",
    "\n",
    "    with open(file_path_train, \"rb\") as f:\n",
    "        loaded_dataset = pickle.load(f)\n",
    "\n",
    "    d = loaded_dataset[2].shape[0]\n",
    "    gs = loaded_dataset[2]\n",
    "    afinity_train = np.zeros((int(d/2),int(d/2)))\n",
    "    for i in range(0,int(d/2)):\n",
    "        for j in range(int(d/2),d):\n",
    "            afinity_train[i,j-int(d/2)] = np.abs(gs[i].H @ gs[j])**2\n",
    "\n",
    "    return afinity_train\n",
    "\n",
    "file_path_12 = os.path.join(path, \"kernel_train_Haldane_12.hdf5\")\n",
    "with h5py.File(file_path_12, \"w\") as f:\n",
    "    f.create_dataset(\" gram_matrix_DMRG_12\", data = gram_matrix_DMRG_12())\n",
    "    \n",
    "gc.collect(2)"
   ]
  },
  {
   "cell_type": "code",
   "execution_count": 6,
   "metadata": {},
   "outputs": [
    {
     "data": {
      "text/plain": [
       "0"
      ]
     },
     "execution_count": 6,
     "metadata": {},
     "output_type": "execute_result"
    }
   ],
   "source": [
    "def gram_matrix_DMRG_21():\n",
    "\n",
    "    with open(file_path_train, \"rb\") as f:\n",
    "        loaded_dataset = pickle.load(f)\n",
    "\n",
    "    d = loaded_dataset[2].shape[0]\n",
    "    gs = loaded_dataset[2]\n",
    "    afinity_train = np.zeros((int(d/2),int(d/2)))\n",
    "    for i in range(int(d/2),d):\n",
    "        for j in range(0,int(d/2)):\n",
    "            afinity_train[i-int(d/2),j] = np.abs(gs[i].H @ gs[j])**2\n",
    "\n",
    "    return afinity_train\n",
    "\n",
    "file_path_21 = os.path.join(path, \"kernel_train_Haldane_21.hdf5\")\n",
    "with h5py.File(file_path_21, \"w\") as f:\n",
    "    f.create_dataset(\" gram_matrix_DMRG_21\", data = gram_matrix_DMRG_21())\n",
    "    \n",
    "gc.collect(2)"
   ]
  },
  {
   "cell_type": "code",
   "execution_count": 7,
   "metadata": {},
   "outputs": [
    {
     "data": {
      "text/plain": [
       "0"
      ]
     },
     "execution_count": 7,
     "metadata": {},
     "output_type": "execute_result"
    }
   ],
   "source": [
    "def gram_matrix_DMRG_22():\n",
    "\n",
    "    with open(file_path_train, \"rb\") as f:\n",
    "        loaded_dataset = pickle.load(f)\n",
    "\n",
    "    d = loaded_dataset[2].shape[0]\n",
    "    gs = loaded_dataset[2]\n",
    "    afinity_train = np.zeros((int(d/2),int(d/2)))\n",
    "    for i in range(int(d/2),d):\n",
    "        for j in range(int(d/2),d):\n",
    "            afinity_train[i-int(d/2),j-int(d/2)] = np.abs(gs[i].H @ gs[j])**2\n",
    "    return afinity_train\n",
    "\n",
    "file_path_22 = os.path.join(path, \"kernel_train_Haldane_22.hdf5\")\n",
    "with h5py.File(file_path_22, \"w\") as f:\n",
    "    f.create_dataset(\" gram_matrix_DMRG_22\", data = gram_matrix_DMRG_22())\n",
    "    \n",
    "gc.collect(2)"
   ]
  },
  {
   "cell_type": "code",
   "execution_count": 8,
   "metadata": {},
   "outputs": [],
   "source": [
    "res11 = h5py.File(file_path_11 ,'r')[' gram_matrix_DMRG_11'][:]\n",
    "res12 = h5py.File(file_path_12 ,'r')[' gram_matrix_DMRG_12'][:]\n",
    "res21 = h5py.File(file_path_21 ,'r')[' gram_matrix_DMRG_21'][:]\n",
    "res22 = h5py.File(file_path_22 ,'r')[' gram_matrix_DMRG_22'][:]\n",
    "kernel = np.block([[res11, res12],\n",
    "                  [res21, res22]])"
   ]
  },
  {
   "cell_type": "code",
   "execution_count": 9,
   "metadata": {
    "metadata": {}
   },
   "outputs": [
    {
     "data": {
      "text/plain": [
       "26"
      ]
     },
     "execution_count": 9,
     "metadata": {},
     "output_type": "execute_result"
    }
   ],
   "source": [
    "test_set = Haldan_anis(L = L, ls = ls).generate_test_set()#ts[0]=DMRG_state, ts[1]=points\n",
    "file_path_test = os.path.join(path, 'testset.pkl')\n",
    "with open(file_path_test, \"wb\") as f:\n",
    "    pickle.dump(test_set, f)\n",
    "gc.collect(2)"
   ]
  },
  {
   "cell_type": "code",
   "execution_count": 10,
   "metadata": {
    "metadata": {}
   },
   "outputs": [
    {
     "data": {
      "text/plain": [
       "0"
      ]
     },
     "execution_count": 10,
     "metadata": {},
     "output_type": "execute_result"
    }
   ],
   "source": [
    "def gram_test():\n",
    "\n",
    "    with open(file_path_test, 'rb') as f:\n",
    "        loaded_test_set = pickle.load(f)\n",
    "    d1 = loaded_test_set[0].shape[0]\n",
    "    Xte = loaded_test_set[0]\n",
    "\n",
    "    with open(file_path_train, \"rb\") as f:\n",
    "        loaded_dataset = pickle.load(f)\n",
    "    d2 = loaded_dataset[2].shape[0]\n",
    "    Xtr = loaded_dataset[2]\n",
    "   \n",
    "    gram_matrix_test = np.zeros((d1,d2))\n",
    "    for i in range(d1):\n",
    "        for j in range(d2):\n",
    "            gram_matrix_test[i,j] = np.abs((Xte[i].H @ Xtr[j]))**2/ (np.abs((Xte[i].H @ Xte[i]))*np.abs((Xtr[j].H @ Xtr[j])))\n",
    "    return gram_matrix_test\n",
    "\n",
    "gtest = gram_test()\n",
    "\n",
    "file_path_gram = os.path.join(path, \"kernel_test_Haldane.hdf5\")\n",
    "with h5py.File(file_path_gram, \"w\") as f:\n",
    "    f.create_dataset(\"gram_test\", data = gram_test())\n",
    "gc.collect(2)\n"
   ]
  },
  {
   "cell_type": "code",
   "execution_count": 11,
   "metadata": {},
   "outputs": [],
   "source": [
    "clf = svm.SVC(kernel='precomputed')\n",
    "with open(file_path_train, \"rb\") as f:\n",
    "    loaded_dataset = pickle.load(f)\n",
    "y = loaded_dataset[3]\n",
    "clf.fit(kernel, y) \n",
    "y_pred = clf.predict(gtest)"
   ]
  },
  {
   "cell_type": "code",
   "execution_count": 16,
   "metadata": {},
   "outputs": [
    {
     "data": {
      "text/plain": [
       "<matplotlib.image.AxesImage at 0x7574f17fffb0>"
      ]
     },
     "execution_count": 16,
     "metadata": {},
     "output_type": "execute_result"
    },
    {
     "data": {
      "image/png": "[encoded data removed]",
      "text/plain": [
       "<Figure size 640x480 with 1 Axes>"
      ]
     },
     "metadata": {},
     "output_type": "display_data"
    }
   ],
   "source": [
    "plt.imshow(y_pred.reshape(10,10))"
   ]
  }
 ],
 "metadata": {
  "colab": {
   "provenance": []
  },
  "kernelspec": {
   "display_name": "TN_QML",
   "language": "python",
   "name": "python3"
  },
  "language_info": {
   "codemirror_mode": {
    "name": "ipython",
    "version": 3
   },
   "file_extension": ".py",
   "mimetype": "text/x-python",
   "name": "python",
   "nbconvert_exporter": "python",
   "pygments_lexer": "ipython3",
   "version": "3.12.3"
  }
 },
 "nbformat": 4,
 "nbformat_minor": 0
}
