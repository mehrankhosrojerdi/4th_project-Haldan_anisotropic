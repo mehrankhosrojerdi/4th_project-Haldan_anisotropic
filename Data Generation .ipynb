{
  "cells": [
    {
      "cell_type": "code",
      "execution_count": 1,
      "metadata": {
        "metadata": {}
      },
      "outputs": [],
      "source": [
        "import gc\n",
        "import h5py\n",
        "import quimb as qu\n",
        "import quimb.tensor as qtn\n",
        "import numpy as np\n",
        "import pandas as pd\n",
        "from sklearn import svm\n",
        "from sklearn.metrics import *\n",
        "import matplotlib.pyplot as plt\n",
        "from Haldane_anis_class import *"
      ]
    },
    {
      "cell_type": "code",
      "execution_count": 2,
      "metadata": {
        "metadata": {}
      },
      "outputs": [],
      "source": [
        "L = 7  # number of particle which has to be odd for calculate faster\n",
        "ls = 10 # the scale of dividing the range classical parameters"
      ]
    },
    {
      "cell_type": "code",
      "execution_count": 10,
      "metadata": {
        "metadata": {}
      },
      "outputs": [
        {
          "name": "stderr",
          "output_type": "stream",
          "text": [
            "/home/mehran/4th_project-Haldan_anisotropic/Haldane_anis_class.py:23: ComplexWarning: Casting complex values to real discards the imaginary part\n",
            "  W[0, 0, :, :] = I\n",
            "/home/mehran/4th_project-Haldan_anisotropic/Haldane_anis_class.py:24: ComplexWarning: Casting complex values to real discards the imaginary part\n",
            "  W[0, 1, :, :] = res[0]+res[1]+res[2]\n",
            "/home/mehran/4th_project-Haldan_anisotropic/Haldane_anis_class.py:25: ComplexWarning: Casting complex values to real discards the imaginary part\n",
            "  W[0, 4, :, :] = (d*Z@Z)+(e*X@X)-(e*Y@Y)\n",
            "/home/mehran/4th_project-Haldan_anisotropic/Haldane_anis_class.py:26: ComplexWarning: Casting complex values to real discards the imaginary part\n",
            "  W[1, 4, :, :] = I\n",
            "/home/mehran/4th_project-Haldan_anisotropic/Haldane_anis_class.py:27: ComplexWarning: Casting complex values to real discards the imaginary part\n",
            "  W[4, 4, :, :] = I\n",
            "/home/mehran/.local/lib/python3.10/site-packages/quimb/utils.py:169: Warning: The tensor_core.get_symbol function is deprecated in favor of contraction.get_symbol\n",
            "  warnings.warn(\n"
          ]
        },
        {
          "data": {
            "text/plain": [
              "0"
            ]
          },
          "execution_count": 10,
          "metadata": {},
          "output_type": "execute_result"
        }
      ],
      "source": [
        "train_set = Haldan_anis(L = L, ls = ls).generate_train_set() #ts[0] = DMRG_state, ts[1] = DMRG_target, ts[2] = points\n",
        "gc.collect(2)"
      ]
    },
    {
      "cell_type": "code",
      "execution_count": 14,
      "metadata": {},
      "outputs": [],
      "source": [
        "with h5py.File(\"train_set_DMRG_target.hdf5\", \"w\") as f:\n",
        "    f.create_dataset(\"DMRG_target\", data=np.array(train_set[1]))"
      ]
    },
    {
      "cell_type": "code",
      "execution_count": 12,
      "metadata": {
        "metadata": {}
      },
      "outputs": [],
      "source": [
        "test_set = Haldan_anis(L = L, ls = ls).generate_test_set()#ts[0]=DMRG_state, ts[1]=points"
      ]
    },
    {
      "cell_type": "code",
      "execution_count": 15,
      "metadata": {},
      "outputs": [],
      "source": [
        "with h5py.File(\"test_set_DMRG.hdf5\", \"w\") as f:\n",
        "    f.create_dataset(\"points\", data = np.array(test_set[1]))"
      ]
    },
    {
      "cell_type": "code",
      "execution_count": 16,
      "metadata": {
        "metadata": {}
      },
      "outputs": [
        {
          "data": {
            "text/plain": [
              "0"
            ]
          },
          "execution_count": 16,
          "metadata": {},
          "output_type": "execute_result"
        }
      ],
      "source": [
        "def gram_train():\n",
        "    Xt = train_set[0]\n",
        "    d = len(Xt)\n",
        "    gram_matrix_train = np.zeros((d,d))\n",
        "    for i in range(d):\n",
        "        for j in range(d):\n",
        "            gram_matrix_train[i,j] = np.abs(Xt[i].H @ Xt[j])**2/ (np.abs(Xt[i].H @ Xt[i])*np.abs(Xt[j].H @ Xt[j]))\n",
        "    return gram_matrix_train\n",
        "\n",
        "gtrain = gram_train()\n",
        "\n",
        "with h5py.File(\"gram_train.hdf5\", \"w\") as f:\n",
        "    f.create_dataset(\"gram_train\", data = gram_train())\n",
        "\n",
        "gc.collect(2)"
      ]
    },
    {
      "cell_type": "code",
      "execution_count": 17,
      "metadata": {
        "metadata": {}
      },
      "outputs": [
        {
          "data": {
            "text/plain": [
              "0"
            ]
          },
          "execution_count": 17,
          "metadata": {},
          "output_type": "execute_result"
        }
      ],
      "source": [
        "def gram_test():\n",
        "    Xte = test_set[0]\n",
        "    d1 = len(Xte)\n",
        "    Xtr = train_set[0]\n",
        "    d2 = len(Xtr)\n",
        "    gram_matrix_test = np.zeros((d1,d2))\n",
        "    for i in range(d1):\n",
        "        for j in range(d2):\n",
        "            gram_matrix_test[i,j] = np.abs((Xte[i].H @ Xtr[j]))**2/ (np.abs((Xte[i].H @ Xte[i]))*np.abs((Xtr[j].H @ Xtr[j])))\n",
        "    return gram_matrix_test\n",
        "\n",
        "gtest = gram_test()\n",
        "\n",
        "with h5py.File(\"gram_test.hdf5\", \"w\") as f:\n",
        "    f.create_dataset(\"gram_test\", data = gram_test())\n",
        "\n",
        "gc.collect(2)"
      ]
    }
  ],
  "metadata": {
    "colab": {
      "provenance": []
    },
    "kernelspec": {
      "display_name": "Python 3",
      "name": "python3"
    },
    "language_info": {
      "codemirror_mode": {
        "name": "ipython",
        "version": 3
      },
      "file_extension": ".py",
      "mimetype": "text/x-python",
      "name": "python",
      "nbconvert_exporter": "python",
      "pygments_lexer": "ipython3",
      "version": "3.10.12"
    }
  },
  "nbformat": 4,
  "nbformat_minor": 0
}
